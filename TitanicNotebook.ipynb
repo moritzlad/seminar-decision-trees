{
 "cells": [
  {
   "cell_type": "code",
   "execution_count": null,
   "metadata": {},
   "outputs": [],
   "source": [
    "import pandas as pd\n",
    "import numpy as np\n",
    "# import scicit learn decision tree\n",
    "from sklearn.tree import DecisionTreeClassifier\n",
    "from sklearn.model_selection import train_test_split"
   ]
  },
  {
   "cell_type": "markdown",
   "metadata": {},
   "source": [
    "## Preparing the dataset"
   ]
  },
  {
   "cell_type": "code",
   "execution_count": null,
   "metadata": {},
   "outputs": [],
   "source": [
    "passenger_data = pd.read_csv(\"Titanic-Dataset.csv\")\n",
    "print(passenger_data.shape)\n",
    "passenger_data.head()"
   ]
  },
  {
   "cell_type": "code",
   "execution_count": null,
   "metadata": {},
   "outputs": [],
   "source": [
    "# select features (PassengerId, Pclass, Sex, Age, SibSp, Parch, Fare, Embarked) and target (survived)\n",
    "features = ['Pclass', 'Sex', 'Age', 'SibSp', 'Parch', 'Fare', 'Embarked_C', 'Embarked_Q', 'Embarked_S']\n",
    "target = passenger_data.columns[1]\n",
    "\n",
    "# delete rows with missing values in the Age column\n",
    "passenger_data = passenger_data.dropna(subset=[\"Age\"])\n",
    "\n",
    "# delete rows with missing values in the Embarked column\n",
    "passenger_data = passenger_data.dropna(subset=[\"Embarked\"])\n",
    "\n",
    "# encode the sex column (Female = 0, Male = 1)\n",
    "passenger_data[\"Sex\"] = passenger_data[\"Sex\"].replace({\"female\": 0, \"male\": 1})\n",
    "# one-hot encode the Embarked column\n",
    "passenger_data = pd.get_dummies(passenger_data, columns=[\"Embarked\"])\n",
    "\n",
    "passenger_data.head()"
   ]
  },
  {
   "cell_type": "code",
   "execution_count": null,
   "metadata": {},
   "outputs": [],
   "source": [
    "\n",
    "# split data into training and testing sets\n",
    "X_train, X_test, y_train, y_test = train_test_split(passenger_data[features], passenger_data[target], test_size=0.2, random_state=42)"
   ]
  },
  {
   "cell_type": "markdown",
   "metadata": {},
   "source": [
    "## Decision Tree Classifier\n",
    "### Max depth: 3"
   ]
  },
  {
   "cell_type": "code",
   "execution_count": null,
   "metadata": {},
   "outputs": [],
   "source": [
    "# create a decision tree model with max_depth=3\n",
    "model = DecisionTreeClassifier(random_state=42, max_depth=3)\n",
    "model.fit(X_train, y_train)\n"
   ]
  },
  {
   "cell_type": "code",
   "execution_count": null,
   "metadata": {},
   "outputs": [],
   "source": [
    "# make predictions\n",
    "predictions = model.predict(X_test)\n",
    "\n",
    "# calculate the accuracy of the model\n",
    "accuracy = np.mean(predictions == y_test)  \n",
    "print(\"Accuracy: \", accuracy)"
   ]
  },
  {
   "cell_type": "code",
   "execution_count": null,
   "metadata": {},
   "outputs": [],
   "source": [
    "# get the feature importances and print them with their names\n",
    "feature_importances = model.feature_importances_\n",
    "feature_names = X_train.columns \n",
    "print(\"Feature importances:\")\n",
    "for name, importance in zip(feature_names, feature_importances):\n",
    "    print(name, importance)"
   ]
  },
  {
   "cell_type": "code",
   "execution_count": null,
   "metadata": {},
   "outputs": [],
   "source": [
    "from sklearn.tree import export_graphviz\n",
    "import pydotplus\n",
    "from IPython.display import Image\n",
    "import re\n",
    "\n",
    "# Export the decision tree as a dot file\n",
    "dot_data = export_graphviz(model, out_file=None,\n",
    "                           feature_names=feature_names,\n",
    "                           class_names=['Survived', 'Not Survived'],\n",
    "                           filled=True, rounded=True,\n",
    "                           special_characters=True)\n",
    "\n",
    "\n",
    "# Function to remove 'samples' and 'value' from the labels\n",
    "def modify_dot(dot_data):\n",
    "    # Use regular expressions to modify the labels\n",
    "    # dot_data = re.sub(r'<br/>samples = \\d+', '', dot_data)\n",
    "    dot_data = re.sub(r'<br/>value = \\[.*?\\]', '', dot_data)\n",
    "    # dot_data = re.sub(r'<br/>gini = [0-9.]+', '', dot_data)\n",
    "    # dot_data = re.sub(r'<br/>class = \\w+', '', dot_data)\n",
    "    return dot_data\n",
    "\n",
    "# Modify the dot data\n",
    "modified_dot_data = modify_dot(dot_data)\n",
    "\n",
    "# Create a graph from the dot data\n",
    "graph = pydotplus.graph_from_dot_data(dot_data)\n",
    "\n",
    "# Generate the image file\n",
    "graph.write_png('decision_tree_depth_3.png')\n",
    "\n",
    "# Display the image\n",
    "Image(graph.create_png())"
   ]
  },
  {
   "cell_type": "markdown",
   "metadata": {},
   "source": [
    "### Max Depth 7"
   ]
  },
  {
   "cell_type": "code",
   "execution_count": null,
   "metadata": {},
   "outputs": [],
   "source": [
    "model2 = DecisionTreeClassifier(random_state=42, max_depth=7)\n",
    "model2.fit(X_train, y_train)\n",
    "# make predictions\n",
    "predictions2 = model2.predict(X_test)\n",
    "\n",
    "# calculate the accuracy of the model\n",
    "accuracy2 = np.mean(predictions2 == y_test)  \n",
    "print(\"Accuracy: \", accuracy2)"
   ]
  },
  {
   "cell_type": "code",
   "execution_count": null,
   "metadata": {},
   "outputs": [],
   "source": [
    "# Export the decision tree as a dot file\n",
    "dot_data = export_graphviz(model2, out_file=None,\n",
    "                           feature_names=feature_names,\n",
    "                           class_names=['Survived', 'Not Survived'],\n",
    "                           filled=True, rounded=True,\n",
    "                           special_characters=True)\n",
    "\n",
    "\n",
    "# Function to remove 'samples' and 'value' from the labels\n",
    "def modify_dot(dot_data):\n",
    "    # Use regular expressions to modify the labels\n",
    "    # dot_data = re.sub(r'<br/>samples = \\d+', '', dot_data)\n",
    "    dot_data = re.sub(r'<br/>value = \\[.*?\\]', '', dot_data)\n",
    "    # dot_data = re.sub(r'<br/>gini = [0-9.]+', '', dot_data)\n",
    "    # dot_data = re.sub(r'<br/>class = \\w+', '', dot_data)\n",
    "    return dot_data\n",
    "\n",
    "# Modify the dot data\n",
    "modified_dot_data = modify_dot(dot_data)\n",
    "\n",
    "# Create a graph from the dot data\n",
    "graph = pydotplus.graph_from_dot_data(modified_dot_data)\n",
    "\n",
    "# Generate the image file\n",
    "graph.write_png('decision_tree_depth_7.png')\n",
    "\n",
    "# Display the image\n",
    "Image(graph.create_png())"
   ]
  },
  {
   "cell_type": "code",
   "execution_count": null,
   "metadata": {},
   "outputs": [],
   "source": [
    "# grid search for the best max_depth\n",
    "max_depths = np.arange(1, 21)\n",
    "accuracies = []\n",
    "for max_depth in max_depths:\n",
    "    model = DecisionTreeClassifier(random_state=42, max_depth=max_depth)\n",
    "    model.fit(X_train, y_train)\n",
    "    predictions = model.predict(X_test)\n",
    "    accuracy = np.mean(predictions == y_test)\n",
    "    accuracies.append(accuracy)\n",
    "\n",
    "# find the max_depth that gives the highest accuracy\n",
    "best_max_depth = max_depths[np.argmax(accuracies)]\n",
    "print(\"Best max_depth:\", best_max_depth)\n",
    "print(\"Best accuracy:\", accuracies[np.argmax(accuracies)])"
   ]
  },
  {
   "cell_type": "code",
   "execution_count": null,
   "metadata": {},
   "outputs": [],
   "source": [
    "# create a graph of max_depths vs. accuracies\n",
    "import matplotlib.pyplot as plt\n",
    "plt.plot(max_depths, accuracies)\n",
    "plt.xlabel(\"max_depth\")\n",
    "plt.ylabel(\"accuracy\")\n",
    "plt.title(\"max_depth vs. accuracy\")\n",
    "plt.show()"
   ]
  },
  {
   "cell_type": "markdown",
   "metadata": {},
   "source": [
    "## Random Forest"
   ]
  },
  {
   "cell_type": "code",
   "execution_count": null,
   "metadata": {},
   "outputs": [],
   "source": [
    "# perform a grid search to find the best hyperparameters\n",
    "from sklearn.ensemble import RandomForestClassifier\n",
    "\n",
    "from sklearn.model_selection import GridSearchCV\n",
    "\n",
    "# Create a dictionary with the hyperparameters\n",
    "param_grid = {\n",
    "    'n_estimators': [50, 100, 200],\n",
    "    'max_depth': [3, 5, 7, 9],\n",
    "    'max_features': ['auto', 'sqrt', 'log2']\n",
    "}\n",
    "\n",
    "# Create a grid search object\n",
    "grid_search = GridSearchCV(estimator=RandomForestClassifier(random_state=42),\n",
    "                           param_grid=param_grid,\n",
    "                           cv=3,\n",
    "                           n_jobs=-1)\n",
    "\n",
    "# Fit the grid search object to the training data\n",
    "grid_search.fit(X_train, y_train)\n",
    "\n",
    "# Get the best hyperparameters\n",
    "best_params = grid_search.best_params_\n",
    "print(\"Best hyperparameters: \", best_params)\n",
    "# Create a random forest classifier model with the best hyperparameters\n",
    "random_forest_best = RandomForestClassifier(n_estimators=best_params['n_estimators'],\n",
    "                                           max_depth=best_params['max_depth'],\n",
    "                                           random_state=42)\n",
    "\n",
    "# Fit the model to the training set\n",
    "random_forest_best.fit(X_train, y_train)\n",
    "\n",
    "# make predictions\n",
    "random_forest_best_pred = random_forest_best.predict(X_test)\n",
    "\n",
    "# calculate the accuracy of the model\n",
    "accuracy_random_forest_best = np.mean(random_forest_best_pred == y_test)\n",
    "print(\"Accuracy: \", accuracy_random_forest_best)"
   ]
  },
  {
   "cell_type": "code",
   "execution_count": null,
   "metadata": {},
   "outputs": [],
   "source": [
    "# get the feature importances of the best model and print them with their names\n",
    "feature_importances = random_forest_best.feature_importances_\n",
    "feature_names = X_train.columns\n",
    "print(\"Feature importances:\")\n",
    "for name, importance in zip(feature_names, feature_importances):\n",
    "    print(name, importance)\n"
   ]
  },
  {
   "cell_type": "markdown",
   "metadata": {},
   "source": [
    "## Boosting"
   ]
  },
  {
   "cell_type": "code",
   "execution_count": null,
   "metadata": {},
   "outputs": [],
   "source": [
    "# create a model using the adaboost classifier\n",
    "from sklearn.ensemble import AdaBoostClassifier\n",
    "adaboost_model = AdaBoostClassifier(random_state=42)\n",
    "adaboost_model.fit(X_train, y_train)\n",
    "\n",
    "# make predictions\n",
    "adaboost_predictions = adaboost_model.predict(X_test)\n",
    "\n",
    "# calculate the accuracy of the model\n",
    "adaboost_accuracy = np.mean(adaboost_predictions == y_test)\n",
    "print(\"Accuracy: \", adaboost_accuracy)"
   ]
  },
  {
   "cell_type": "code",
   "execution_count": null,
   "metadata": {},
   "outputs": [],
   "source": [
    "# print the feature importances\n",
    "feature_importances = adaboost_model.feature_importances_\n",
    "feature_names = X_train.columns\n",
    "print(\"Feature importances:\")\n",
    "for name, importance in zip(feature_names, feature_importances):\n",
    "    print(name, importance)"
   ]
  },
  {
   "cell_type": "markdown",
   "metadata": {},
   "source": [
    "## Comparison of the feature importances"
   ]
  },
  {
   "cell_type": "code",
   "execution_count": null,
   "metadata": {},
   "outputs": [],
   "source": [
    "# create a dataframe with the feature importances from all the models\n",
    "feature_importances_df = pd.DataFrame({\n",
    "    'Feature': feature_names,\n",
    "    'Decision Tree Depth 3': model.feature_importances_,\n",
    "    'Decision Tree Depth 7': model2.feature_importances_,\n",
    "    'Random Forest': random_forest_best.feature_importances_,\n",
    "    'AdaBoost': adaboost_model.feature_importances_\n",
    "})\n",
    "\n",
    "# create a heatmap from the data\n",
    "import seaborn as sns\n",
    "plt.figure(figsize=(10, 6))\n",
    "sns.heatmap(feature_importances_df.set_index('Feature'), annot=True, cmap='coolwarm')\n",
    "plt.title(\"Feature Importances\")\n",
    "plt.show()\n"
   ]
  },
  {
   "cell_type": "code",
   "execution_count": null,
   "metadata": {},
   "outputs": [],
   "source": [
    "# save the plot\n",
    "plt.figure(figsize=(10, 5))\n",
    "sns.heatmap(feature_importances_df.set_index('Feature'), annot=True, cmap='coolwarm')\n",
    "plt.title(\"Feature Importances\")\n",
    "plt.savefig(\"feature_importances_heatmap.png\")"
   ]
  },
  {
   "cell_type": "code",
   "execution_count": 3,
   "metadata": {},
   "outputs": [
    {
     "data": {
      "image/png": "[encoded data removed]",
      "text/plain": [
       "<Figure size 640x480 with 1 Axes>"
      ]
     },
     "metadata": {},
     "output_type": "display_data"
    }
   ],
   "source": [
    "import matplotlib.pyplot as plt\n",
    "\n",
    "# Define the number of pruned trees (k)\n",
    "k = 20\n",
    "\n",
    "# Define the accuracy values for each pruned tree\n",
    "accuracy_values = [0.2408, 0.2906, 0.3061, 0.3670, 0.3697, 0.4013,\n",
    " 0.4408, 0.5368, 0.5419, 0.5505, 0.6045, 0.6118, 0.6226, 0.6341, 0.6453, 0.7118,\n",
    " 0.7283, 0.7369, 0.7851, 0.7925, 0.8103, 0.8331, 0.8522, 0.8776, 0.8911, 0.9150,\n",
    " 0.9262, 0.9949, 0.9896, 0.9463, 0.9319, 0.9304, 0.9268, 0.9242, 0.9238, 0.9188,\n",
    " 0.8793, 0.8719, 0.8655, 0.8649, 0.8523, 0.8431, 0.8320, 0.8079, 0.8021, 0.7996,\n",
    " 0.7757, 0.7686, 0.7579, 0.7533, 0.7277, 0.7162, 0.6548, 0.6298, 0.6273, 0.6056,\n",
    " 0.5899, 0.5651, 0.5639, 0.5582, 0.5412, 0.5103, 0.4363, 0.4302, 0.4236, 0.3770,\n",
    " 0.3687, 0.3396, 0.3139, 0.2988, 0.2896, 0.2737, 0.2561, 0.2552, 0.2433, 0.2395,\n",
    " 0.2246, 0.1971, 0.1880, 0.1743, 0.1707, 0.1566, 0.1508, 0.1460, 0.1325, 0.1190,\n",
    " 0.1011, 0.0879, 0.0782, 0.0715]\n",
    "\n",
    "\n",
    "# Define the number of trees (T) from T_0 to T_k\n",
    "num_trees = list(range(0, len(accuracy_values)))\n",
    "\n",
    "# Plot the accuracy curve\n",
    "plt.plot(num_trees, accuracy_values)\n",
    "plt.xlabel('Number of Pruned Trees')\n",
    "plt.ylabel('Accuracy')\n",
    "plt.title('Accuracy Curve of Pruned Trees')\n",
    "plt.grid(True)\n",
    "plt.show()"
   ]
  },
  {
   "cell_type": "code",
   "execution_count": null,
   "metadata": {},
   "outputs": [],
   "source": []
  }
 ],
 "metadata": {
  "kernelspec": {
   "display_name": "Python 3",
   "language": "python",
   "name": "python3"
  },
  "language_info": {
   "codemirror_mode": {
    "name": "ipython",
    "version": 3
   },
   "file_extension": ".py",
   "mimetype": "text/x-python",
   "name": "python",
   "nbconvert_exporter": "python",
   "pygments_lexer": "ipython3",
   "version": "3.9.13"
  }
 },
 "nbformat": 4,
 "nbformat_minor": 2
}
